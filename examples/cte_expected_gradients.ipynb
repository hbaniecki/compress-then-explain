{
 "cells": [
  {
   "cell_type": "markdown",
   "metadata": {},
   "source": [
    "# Compress then explain: example with Expected Gradients\n",
    "\n",
    "Example of CTE with the [`captum` Python package](https://github.com/pytorch/captum) explaining a CNN model trained on the `CIFAR_10` dataset.\n",
    "\n",
    "#### load packages"
   ]
  },
  {
   "cell_type": "code",
   "execution_count": 1,
   "metadata": {},
   "outputs": [],
   "source": [
    "import numpy as np\n",
    "import torch\n",
    "import torchvision\n",
    "import torchvision.transforms as transforms\n",
    "from goodpoints import compress\n",
    "import captum"
   ]
  },
  {
   "cell_type": "markdown",
   "metadata": {},
   "source": [
    "#### load the dataset and model\n",
    "\n",
    "Following the PyTorch tutorial https://pytorch.org/tutorials/beginner/blitz/cifar10_tutorial.html"
   ]
  },
  {
   "cell_type": "code",
   "execution_count": 2,
   "metadata": {},
   "outputs": [
    {
     "name": "stdout",
     "output_type": "stream",
     "text": [
      "Files already downloaded and verified\n",
      "Files already downloaded and verified\n"
     ]
    }
   ],
   "source": [
    "transform = transforms.Compose(\n",
    "    [transforms.ToTensor(),\n",
    "     transforms.Normalize((0.5, 0.5, 0.5), (0.5, 0.5, 0.5))])\n",
    "\n",
    "batch_size = 512\n",
    "\n",
    "trainset = torchvision.datasets.CIFAR10(root='./data', train=True,\n",
    "                                        download=True, transform=transform)\n",
    "trainloader = torch.utils.data.DataLoader(trainset, batch_size=batch_size,\n",
    "                                          shuffle=True, num_workers=2)\n",
    "\n",
    "testset = torchvision.datasets.CIFAR10(root='./data', train=False,\n",
    "                                       download=True, transform=transform)\n",
    "testloader = torch.utils.data.DataLoader(testset, batch_size=batch_size,\n",
    "                                         shuffle=False, num_workers=2)\n",
    "\n",
    "classes = ('plane', 'car', 'bird', 'cat',\n",
    "           'deer', 'dog', 'frog', 'horse', 'ship', 'truck')"
   ]
  },
  {
   "cell_type": "code",
   "execution_count": 3,
   "metadata": {},
   "outputs": [],
   "source": [
    "import torch.nn as nn\n",
    "import torch.nn.functional as F\n",
    "\n",
    "\n",
    "class Net(nn.Module):\n",
    "    def __init__(self):\n",
    "        super().__init__()\n",
    "        self.conv1 = nn.Conv2d(3, 6, 5)\n",
    "        self.pool = nn.MaxPool2d(2, 2)\n",
    "        self.conv2 = nn.Conv2d(6, 16, 5)\n",
    "        self.fc1 = nn.Linear(16 * 5 * 5, 120)\n",
    "        self.fc2 = nn.Linear(120, 84)\n",
    "        self.fc3 = nn.Linear(84, 10)\n",
    "\n",
    "    def forward(self, x):\n",
    "        x = self.pool(F.relu(self.conv1(x)))\n",
    "        x = self.pool(F.relu(self.conv2(x)))\n",
    "        x = torch.flatten(x, 1) # flatten all dimensions except batch\n",
    "        x = F.relu(self.fc1(x))\n",
    "        x = F.relu(self.fc2(x))\n",
    "        x = self.fc3(x)\n",
    "        return x\n",
    "\n",
    "\n",
    "net = Net()"
   ]
  },
  {
   "cell_type": "code",
   "execution_count": 4,
   "metadata": {},
   "outputs": [],
   "source": [
    "import torch.optim as optim\n",
    "\n",
    "criterion = nn.CrossEntropyLoss()\n",
    "optimizer = optim.Adam(net.parameters(), lr=1e-3)"
   ]
  },
  {
   "cell_type": "code",
   "execution_count": 5,
   "metadata": {},
   "outputs": [
    {
     "name": "stdout",
     "output_type": "stream",
     "text": [
      "epoch: 1 | loss: 1.919\n",
      "epoch: 2 | loss: 1.610\n",
      "epoch: 3 | loss: 1.511\n",
      "epoch: 4 | loss: 1.442\n",
      "epoch: 5 | loss: 1.385\n",
      "epoch: 6 | loss: 1.335\n",
      "epoch: 7 | loss: 1.297\n",
      "epoch: 8 | loss: 1.259\n",
      "epoch: 9 | loss: 1.228\n",
      "epoch: 10 | loss: 1.200\n",
      "epoch: 11 | loss: 1.173\n",
      "epoch: 12 | loss: 1.145\n",
      "epoch: 13 | loss: 1.128\n",
      "epoch: 14 | loss: 1.106\n",
      "epoch: 15 | loss: 1.089\n",
      "epoch: 16 | loss: 1.067\n",
      "epoch: 17 | loss: 1.055\n",
      "epoch: 18 | loss: 1.046\n",
      "epoch: 19 | loss: 1.028\n",
      "epoch: 20 | loss: 1.011\n",
      "Finished Training\n"
     ]
    }
   ],
   "source": [
    "for epoch in range(20):\n",
    "    running_loss = 0.0\n",
    "    for i, data in enumerate(trainloader, 0):\n",
    "        inputs, labels = data\n",
    "        optimizer.zero_grad()\n",
    "        outputs = net(inputs)\n",
    "        loss = criterion(outputs, labels)\n",
    "        loss.backward()\n",
    "        optimizer.step()\n",
    "        running_loss += loss.item()\n",
    "    print(f'epoch: {epoch + 1} | loss: {running_loss / len(trainloader):.3f}')\n",
    "print('Finished Training')"
   ]
  },
  {
   "cell_type": "code",
   "execution_count": 6,
   "metadata": {},
   "outputs": [
    {
     "name": "stdout",
     "output_type": "stream",
     "text": [
      "Accuracy of the network on the 10000 test images: 60 %\n"
     ]
    }
   ],
   "source": [
    "correct = 0\n",
    "total = 0\n",
    "with torch.no_grad():\n",
    "    for data in testloader:\n",
    "        images, labels = data\n",
    "        outputs = net(images)\n",
    "        _, predicted = torch.max(outputs.data, 1)\n",
    "        total += labels.size(0)\n",
    "        correct += (predicted == labels).sum().item()\n",
    "print(f'Accuracy of the network on the 10000 test images: {100 * correct // total} %')"
   ]
  },
  {
   "cell_type": "markdown",
   "metadata": {},
   "source": [
    "#### compress background data"
   ]
  },
  {
   "cell_type": "code",
   "execution_count": 7,
   "metadata": {},
   "outputs": [],
   "source": [
    "X_test_2d = testloader.dataset.data.astype(float) / 255\n",
    "X_test = X_test_2d.reshape(10000, 3*32**2)\n",
    "n = X_test.shape[0]\n",
    "d = X_test.shape[1]\n",
    "sigma = np.sqrt(2 * d)"
   ]
  },
  {
   "cell_type": "code",
   "execution_count": 8,
   "metadata": {},
   "outputs": [],
   "source": [
    "id_cte = compress.compresspp_kt(X_test, kernel_type=b\"gaussian\", k_params=np.array([sigma**2]), g=4, seed=0)"
   ]
  },
  {
   "cell_type": "markdown",
   "metadata": {},
   "source": [
    "#### then explain"
   ]
  },
  {
   "cell_type": "code",
   "execution_count": 9,
   "metadata": {},
   "outputs": [],
   "source": [
    "explainer = captum.attr.IntegratedGradients(net)\n",
    "inputs = torch.movedim(torch.as_tensor(X_test_2d, dtype=torch.float), 3, 1)"
   ]
  },
  {
   "cell_type": "code",
   "execution_count": 10,
   "metadata": {},
   "outputs": [],
   "source": [
    "baselines_cte = torch.movedim(torch.as_tensor(X_test_2d[id_cte], dtype=torch.float), 3, 1)\n",
    "results = []\n",
    "for data in testloader:\n",
    "    inputs, _ = data\n",
    "    results += [explainer.attribute(inputs, baselines_cte[[i]], target=1) for i in range(baselines_cte.shape[0])]\n",
    "    break"
   ]
  },
  {
   "cell_type": "code",
   "execution_count": 11,
   "metadata": {},
   "outputs": [],
   "source": [
    "explanation_cte = torch.mean(torch.stack(results), dim=0)"
   ]
  },
  {
   "cell_type": "markdown",
   "metadata": {},
   "source": [
    "#### compare with iid sampling"
   ]
  },
  {
   "cell_type": "code",
   "execution_count": 12,
   "metadata": {},
   "outputs": [],
   "source": [
    "np.random.seed(0)\n",
    "id_iid = np.random.choice(n, size=len(id_cte))\n",
    "baselines_iid = torch.movedim(torch.as_tensor(X_test_2d[id_iid], dtype=torch.float), 3, 1)\n",
    "results = []\n",
    "for data in testloader:\n",
    "    inputs, _ = data\n",
    "    results += [explainer.attribute(inputs, baselines_iid[[i]], target=1) for i in range(baselines_iid.shape[0])]\n",
    "    break"
   ]
  },
  {
   "cell_type": "code",
   "execution_count": 13,
   "metadata": {},
   "outputs": [],
   "source": [
    "explanation_iid = torch.mean(torch.stack(results), dim=0)"
   ]
  },
  {
   "cell_type": "markdown",
   "metadata": {},
   "source": [
    "#### calculate \"ground truth\""
   ]
  },
  {
   "cell_type": "code",
   "execution_count": 14,
   "metadata": {},
   "outputs": [],
   "source": [
    "np.random.seed(0)\n",
    "id_gt = np.random.choice(n, size=20*len(id_cte))\n",
    "baselines_gt = torch.movedim(torch.as_tensor(X_test_2d[id_gt], dtype=torch.float), 3, 1)\n",
    "results = []\n",
    "for data in testloader:\n",
    "    inputs, _ = data\n",
    "    results += [explainer.attribute(inputs, baselines_gt[[i]], target=1) for i in range(baselines_gt.shape[0])]\n",
    "    break"
   ]
  },
  {
   "cell_type": "code",
   "execution_count": 15,
   "metadata": {},
   "outputs": [],
   "source": [
    "explanation_gt = torch.mean(torch.stack(results), dim=0)"
   ]
  },
  {
   "cell_type": "markdown",
   "metadata": {},
   "source": [
    "#### evaluate"
   ]
  },
  {
   "cell_type": "code",
   "execution_count": 16,
   "metadata": {},
   "outputs": [],
   "source": [
    "def metric_mae(x, y):\n",
    "    return torch.mean(torch.abs(x-y))"
   ]
  },
  {
   "cell_type": "code",
   "execution_count": 17,
   "metadata": {},
   "outputs": [
    {
     "name": "stdout",
     "output_type": "stream",
     "text": [
      "Explanation approximation error introduced by iid sampling:      0.0017\n",
      "Relative improvement by CTE:      14.16%\n"
     ]
    }
   ],
   "source": [
    "print(f'Explanation approximation error introduced by iid sampling:\\\n",
    "      {metric_mae(explanation_gt, explanation_iid):.4f}')\n",
    "print(f'Relative improvement by CTE:\\\n",
    "      {100*(metric_mae(explanation_gt, explanation_iid) - metric_mae(explanation_gt, explanation_cte)) / metric_mae(explanation_gt, explanation_iid):.2f}%')"
   ]
  }
 ],
 "metadata": {
  "kernelspec": {
   "display_name": "cte_examples",
   "language": "python",
   "name": "python3"
  },
  "language_info": {
   "codemirror_mode": {
    "name": "ipython",
    "version": 3
   },
   "file_extension": ".py",
   "mimetype": "text/x-python",
   "name": "python",
   "nbconvert_exporter": "python",
   "pygments_lexer": "ipython3",
   "version": "3.10.10"
  }
 },
 "nbformat": 4,
 "nbformat_minor": 2
}
